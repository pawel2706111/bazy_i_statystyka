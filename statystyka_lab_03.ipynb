{
 "cells": [
  {
   "cell_type": "markdown",
   "metadata": {},
   "source": [
    "<h3>Zadanie 1</h3>"
   ]
  },
  {
   "cell_type": "code",
   "execution_count": 1,
   "metadata": {},
   "outputs": [
    {
     "name": "stdout",
     "output_type": "stream",
     "text": [
      "Statystyka testowa: -0.42535776515006835\n",
      "Wartość p: 0.6710355090662592\n",
      "Nie ma podstaw do odrzucenia hipotezy zerowej.\n"
     ]
    }
   ],
   "source": [
    "import numpy as np\n",
    "import scipy.stats as sps\n",
    "\n",
    "srednia = 2\n",
    "odchylenie = 30\n",
    "n = 200\n",
    "\n",
    "rozklad = np.random.normal(srednia, odchylenie, n)\n",
    "\n",
    "hipoteza = 2.5\n",
    "stat, p = sps.ttest_1samp(rozklad, hipoteza)\n",
    "\n",
    "print(f'Statystyka testowa: {stat}')\n",
    "print(f'Wartość p: {p}')\n",
    "\n",
    "if p < 0.05:\n",
    "    print(\"Odrzucamy hipotezę zerową.\")\n",
    "else:\n",
    "    print(\"Nie ma podstaw do odrzucenia hipotezy zerowej.\")"
   ]
  },
  {
   "cell_type": "markdown",
   "metadata": {},
   "source": [
    "<h3>Zadanie 2</h3>"
   ]
  },
  {
   "cell_type": "code",
   "execution_count": 2,
   "metadata": {},
   "outputs": [
    {
     "data": {
      "text/html": [
       "<div>\n",
       "<style scoped>\n",
       "    .dataframe tbody tr th:only-of-type {\n",
       "        vertical-align: middle;\n",
       "    }\n",
       "\n",
       "    .dataframe tbody tr th {\n",
       "        vertical-align: top;\n",
       "    }\n",
       "\n",
       "    .dataframe thead th {\n",
       "        text-align: right;\n",
       "    }\n",
       "</style>\n",
       "<table border=\"1\" class=\"dataframe\">\n",
       "  <thead>\n",
       "    <tr style=\"text-align: right;\">\n",
       "      <th></th>\n",
       "      <th>mies</th>\n",
       "      <th>rok</th>\n",
       "      <th>pepsi</th>\n",
       "      <th>fanta</th>\n",
       "      <th>żywiec</th>\n",
       "      <th>okocim</th>\n",
       "      <th>regionalne</th>\n",
       "      <th>cola</th>\n",
       "      <th>lech</th>\n",
       "    </tr>\n",
       "  </thead>\n",
       "  <tbody>\n",
       "    <tr>\n",
       "      <th>0</th>\n",
       "      <td>1</td>\n",
       "      <td>2001</td>\n",
       "      <td>108447</td>\n",
       "      <td>43302</td>\n",
       "      <td>186385</td>\n",
       "      <td>54301</td>\n",
       "      <td>45065</td>\n",
       "      <td>227013</td>\n",
       "      <td>56306</td>\n",
       "    </tr>\n",
       "    <tr>\n",
       "      <th>1</th>\n",
       "      <td>2</td>\n",
       "      <td>2001</td>\n",
       "      <td>105439</td>\n",
       "      <td>46711</td>\n",
       "      <td>168782</td>\n",
       "      <td>68131</td>\n",
       "      <td>43933</td>\n",
       "      <td>221115</td>\n",
       "      <td>67212</td>\n",
       "    </tr>\n",
       "    <tr>\n",
       "      <th>2</th>\n",
       "      <td>3</td>\n",
       "      <td>2001</td>\n",
       "      <td>111675</td>\n",
       "      <td>36029</td>\n",
       "      <td>172186</td>\n",
       "      <td>63104</td>\n",
       "      <td>46663</td>\n",
       "      <td>222812</td>\n",
       "      <td>67398</td>\n",
       "    </tr>\n",
       "    <tr>\n",
       "      <th>3</th>\n",
       "      <td>4</td>\n",
       "      <td>2001</td>\n",
       "      <td>113232</td>\n",
       "      <td>33659</td>\n",
       "      <td>172445</td>\n",
       "      <td>50871</td>\n",
       "      <td>45195</td>\n",
       "      <td>238631</td>\n",
       "      <td>57100</td>\n",
       "    </tr>\n",
       "    <tr>\n",
       "      <th>4</th>\n",
       "      <td>5</td>\n",
       "      <td>2001</td>\n",
       "      <td>110274</td>\n",
       "      <td>40853</td>\n",
       "      <td>174526</td>\n",
       "      <td>67924</td>\n",
       "      <td>47926</td>\n",
       "      <td>222963</td>\n",
       "      <td>65001</td>\n",
       "    </tr>\n",
       "  </tbody>\n",
       "</table>\n",
       "</div>"
      ],
      "text/plain": [
       "   mies   rok   pepsi  fanta   żywiec  okocim  regionalne    cola   lech\n",
       "0     1  2001  108447   43302  186385   54301       45065  227013  56306\n",
       "1     2  2001  105439   46711  168782   68131       43933  221115  67212\n",
       "2     3  2001  111675   36029  172186   63104       46663  222812  67398\n",
       "3     4  2001  113232   33659  172445   50871       45195  238631  57100\n",
       "4     5  2001  110274   40853  174526   67924       47926  222963  65001"
      ]
     },
     "execution_count": 2,
     "metadata": {},
     "output_type": "execute_result"
    }
   ],
   "source": [
    "import pandas as pd\n",
    "\n",
    "df = pd.read_csv('pliki_csv/napoje.csv', sep = ';')\n",
    "df.head(5)"
   ]
  },
  {
   "cell_type": "code",
   "execution_count": 3,
   "metadata": {},
   "outputs": [
    {
     "name": "stdout",
     "output_type": "stream",
     "text": [
      "\n",
      "Test dla: lech\n",
      "Statystyka testowa: 1.646503944538866\n",
      "Wartość p: 0.10130442686854728\n",
      "Nie ma podstaw do odrzucenia hipotezy zerowej.\n",
      "\n",
      "Test dla: cola\n",
      "Statystyka testowa: 6.391908975571081\n",
      "Wartość p: 1.2249714535216756e-09\n",
      "Odrzucamy hipotezę zerową.\n",
      "\n",
      "Test dla: regionalne\n",
      "Statystyka testowa: 17.440927488514944\n",
      "Wartość p: 2.2572528828603765e-41\n",
      "Odrzucamy hipotezę zerową.\n"
     ]
    }
   ],
   "source": [
    "hipotezy = {'lech': 60500, 'cola': 222000, 'regionalne': 43500}\n",
    "\n",
    "for piwo in hipotezy.keys():\n",
    "    data = df[piwo]\n",
    "    stat, p = sps.ttest_1samp(data, hipotezy[piwo])\n",
    "    print(f'\\nTest dla: {piwo}')\n",
    "    print(f'Statystyka testowa: {stat}')\n",
    "    print(f'Wartość p: {p}')\n",
    "    if p < 0.05:\n",
    "        print(f'Odrzucamy hipotezę zerową.')\n",
    "    else:\n",
    "        print('Nie ma podstaw do odrzucenia hipotezy zerowej.')"
   ]
  },
  {
   "cell_type": "markdown",
   "metadata": {},
   "source": [
    "<h3>Zadanie 3</h3>"
   ]
  },
  {
   "cell_type": "code",
   "execution_count": 4,
   "metadata": {},
   "outputs": [
    {
     "name": "stdout",
     "output_type": "stream",
     "text": [
      "\n",
      "Test normalności dla zmiennej mies:\n",
      "Statystyka testowa: 0.9405028820037842\n",
      "Wartość p: 4.075907327205641e-07\n",
      "Rozkład dla mies nie wykazuje normalności\n",
      "\n",
      "Test normalności dla zmiennej rok:\n",
      "Statystyka testowa: 0.9462482333183289\n",
      "Wartość p: 1.3102297771183657e-06\n",
      "Rozkład dla rok nie wykazuje normalności\n",
      "\n",
      "Test normalności dla zmiennej pepsi:\n",
      "Statystyka testowa: 0.9912384748458862\n",
      "Wartość p: 0.2968809902667999\n",
      "Rozkład dla pepsi wykazuje normalność\n",
      "\n",
      "Test normalności dla zmiennej fanta :\n",
      "Statystyka testowa: 0.9894830584526062\n",
      "Wartość p: 0.17036965489387512\n",
      "Rozkład dla fanta  wykazuje normalność\n",
      "\n",
      "Test normalności dla zmiennej żywiec:\n",
      "Statystyka testowa: 0.9913601875305176\n",
      "Wartość p: 0.3080885708332062\n",
      "Rozkład dla żywiec wykazuje normalność\n",
      "\n",
      "Test normalności dla zmiennej okocim:\n",
      "Statystyka testowa: 0.9875098466873169\n",
      "Wartość p: 0.08890535682439804\n",
      "Rozkład dla okocim wykazuje normalność\n",
      "\n",
      "Test normalności dla zmiennej regionalne:\n",
      "Statystyka testowa: 0.936504602432251\n",
      "Wartość p: 1.8769230791804148e-07\n",
      "Rozkład dla regionalne nie wykazuje normalności\n",
      "\n",
      "Test normalności dla zmiennej cola:\n",
      "Statystyka testowa: 0.993564248085022\n",
      "Wartość p: 0.5694407224655151\n",
      "Rozkład dla cola wykazuje normalność\n",
      "\n",
      "Test normalności dla zmiennej lech:\n",
      "Statystyka testowa: 0.9936927556991577\n",
      "Wartość p: 0.5875554084777832\n",
      "Rozkład dla lech wykazuje normalność\n"
     ]
    }
   ],
   "source": [
    "for zmienna in df.columns:\n",
    "    data = df[zmienna]\n",
    "    stat, p = sps.shapiro(data)\n",
    "    print(f'\\nTest normalności dla zmiennej {zmienna}:')\n",
    "    print(f'Statystyka testowa: {stat}')\n",
    "    print(f'Wartość p: {p}')\n",
    "    if p < 0.05:\n",
    "        print(f'Rozkład dla {zmienna} nie wykazuje normalności')\n",
    "    else:\n",
    "        print(f'Rozkład dla {zmienna} wykazuje normalność')"
   ]
  },
  {
   "cell_type": "markdown",
   "metadata": {},
   "source": [
    "<h3>Zadanie 4</h3>"
   ]
  },
  {
   "cell_type": "code",
   "execution_count": 8,
   "metadata": {},
   "outputs": [
    {
     "name": "stdout",
     "output_type": "stream",
     "text": [
      "\n",
      "Test równości średniej dla par okocim oraz lech:\n",
      "Statystyka testowa: 17861.5\n",
      "Wartość p: 0.6001922392671175\n",
      "Średnie okocim oraz lech są równe.\n",
      "\n",
      "Test równości średniej dla par fanta  oraz regionalne:\n",
      "Statystyka testowa: 8106.5\n",
      "Wartość p: 2.223371766550974e-21\n",
      "Średnie fanta  oraz regionalne nie są równe.\n",
      "\n",
      "Test równości średniej dla par cola oraz pepsi:\n",
      "Statystyka testowa: 36864.0\n",
      "Wartość p: 1.9894396616299057e-64\n",
      "Średnie cola oraz pepsi nie są równe.\n"
     ]
    }
   ],
   "source": [
    "pary = [['okocim', 'lech'],\n",
    "        ['fanta ', 'regionalne'],\n",
    "        ['cola', 'pepsi']]\n",
    "\n",
    "for zmienna_1, zmienna_2 in pary:\n",
    "    stat, p = sps.mannwhitneyu(df[zmienna_1], df[zmienna_2])\n",
    "    print(f'\\nTest równości średniej dla par {zmienna_1} oraz {zmienna_2}:')\n",
    "    print(f'Statystyka testowa: {stat}')\n",
    "    print(f'Wartość p: {p}')\n",
    "    if p < 0.05:\n",
    "        print(f'Średnie {zmienna_1} oraz {zmienna_2} nie są równe.')\n",
    "    else:\n",
    "        print(f'Średnie {zmienna_1} oraz {zmienna_2} są równe.')"
   ]
  },
  {
   "cell_type": "markdown",
   "metadata": {},
   "source": [
    "<h3>Zadanie 5</h3>"
   ]
  },
  {
   "cell_type": "code",
   "execution_count": 9,
   "metadata": {},
   "outputs": [
    {
     "name": "stdout",
     "output_type": "stream",
     "text": [
      "\n",
      "Test równości wariancji dla par okocim oraz lech:\n",
      "Statystyka testowa: 1.191182232831977\n",
      "Wartość p: 0.2757791126546958\n",
      "Wariancje okocim oraz lech są równe.\n",
      "\n",
      "Test równości wariancji dla par fanta  oraz żywiec:\n",
      "Statystyka testowa: 1.4760992846958803\n",
      "Wartość p: 0.22513624629834209\n",
      "Wariancje fanta  oraz żywiec są równe.\n",
      "\n",
      "Test równości wariancji dla par cola oraz regionalne:\n",
      "Statystyka testowa: 83.85984593010029\n",
      "Wartość p: 3.275749775904902e-18\n",
      "Wariancje cola oraz regionalne nie są równe.\n"
     ]
    }
   ],
   "source": [
    "pary = [['okocim', 'lech'],\n",
    "        ['fanta ', 'żywiec'],\n",
    "        ['cola', 'regionalne']]\n",
    "\n",
    "for zmienna_1, zmienna_2 in pary:\n",
    "    stat, p = sps.levene(df[zmienna_1], df[zmienna_2])\n",
    "    print(f'\\nTest równości wariancji dla par {zmienna_1} oraz {zmienna_2}:')\n",
    "    print(f'Statystyka testowa: {stat}')\n",
    "    print(f'Wartość p: {p}')\n",
    "    if p < 0.05:\n",
    "        print(f'Wariancje {zmienna_1} oraz {zmienna_2} nie są równe.')\n",
    "    else:\n",
    "        print(f'Wariancje {zmienna_1} oraz {zmienna_2} są równe.')"
   ]
  },
  {
   "cell_type": "markdown",
   "metadata": {},
   "source": [
    "<h3>Zadanie 6</h3>"
   ]
  },
  {
   "cell_type": "code",
   "execution_count": 10,
   "metadata": {},
   "outputs": [
    {
     "name": "stdout",
     "output_type": "stream",
     "text": [
      "Test równości średniej pomiędzy latami 2001 i 2015 dla piw regionalnych:\n",
      "Statystyka testowa: 24.0\n",
      "Wartość p: 0.0060989459312143675\n",
      "Średnie pomiedzy latami 2001 i 2015 nie są równe.\n"
     ]
    }
   ],
   "source": [
    "piwa_regionalne_2001 = df[df['rok'] == 2001]['regionalne']\n",
    "piwa_regionalne_2015 = df[df['rok'] == 2015]['regionalne']\n",
    "\n",
    "stat, p = sps.mannwhitneyu(piwa_regionalne_2001, piwa_regionalne_2015)\n",
    "    \n",
    "print(f'Test równości średniej pomiędzy latami 2001 i 2015 dla piw regionalnych:')\n",
    "print(f'Statystyka testowa: {stat}')\n",
    "print(f'Wartość p: {p}')\n",
    "\n",
    "if p < 0.05:\n",
    "    print(f'Średnie pomiedzy latami 2001 i 2015 nie są równe.')\n",
    "else:\n",
    "    print(f'Średnie pomiedzy latami 2001 i 2015 są równe.')"
   ]
  },
  {
   "cell_type": "markdown",
   "metadata": {},
   "source": [
    "<h3>Zadanie 7</h3>"
   ]
  },
  {
   "cell_type": "code",
   "execution_count": 11,
   "metadata": {},
   "outputs": [
    {
     "data": {
      "text/html": [
       "<div>\n",
       "<style scoped>\n",
       "    .dataframe tbody tr th:only-of-type {\n",
       "        vertical-align: middle;\n",
       "    }\n",
       "\n",
       "    .dataframe tbody tr th {\n",
       "        vertical-align: top;\n",
       "    }\n",
       "\n",
       "    .dataframe thead th {\n",
       "        text-align: right;\n",
       "    }\n",
       "</style>\n",
       "<table border=\"1\" class=\"dataframe\">\n",
       "  <thead>\n",
       "    <tr style=\"text-align: right;\">\n",
       "      <th></th>\n",
       "      <th>mies</th>\n",
       "      <th>pepsi</th>\n",
       "      <th>fanta</th>\n",
       "      <th>żywiec</th>\n",
       "      <th>okocim</th>\n",
       "      <th>regionalne</th>\n",
       "      <th>cola</th>\n",
       "      <th>lech</th>\n",
       "    </tr>\n",
       "  </thead>\n",
       "  <tbody>\n",
       "    <tr>\n",
       "      <th>0</th>\n",
       "      <td>1</td>\n",
       "      <td>119110</td>\n",
       "      <td>41386</td>\n",
       "      <td>186272</td>\n",
       "      <td>64398</td>\n",
       "      <td>55561</td>\n",
       "      <td>215468</td>\n",
       "      <td>68673</td>\n",
       "    </tr>\n",
       "    <tr>\n",
       "      <th>1</th>\n",
       "      <td>2</td>\n",
       "      <td>107424</td>\n",
       "      <td>45669</td>\n",
       "      <td>178564</td>\n",
       "      <td>61847</td>\n",
       "      <td>48793</td>\n",
       "      <td>233941</td>\n",
       "      <td>68483</td>\n",
       "    </tr>\n",
       "    <tr>\n",
       "      <th>2</th>\n",
       "      <td>3</td>\n",
       "      <td>105748</td>\n",
       "      <td>47373</td>\n",
       "      <td>183368</td>\n",
       "      <td>53390</td>\n",
       "      <td>63907</td>\n",
       "      <td>229677</td>\n",
       "      <td>63300</td>\n",
       "    </tr>\n",
       "    <tr>\n",
       "      <th>3</th>\n",
       "      <td>4</td>\n",
       "      <td>115377</td>\n",
       "      <td>39395</td>\n",
       "      <td>184326</td>\n",
       "      <td>60062</td>\n",
       "      <td>58531</td>\n",
       "      <td>234246</td>\n",
       "      <td>61943</td>\n",
       "    </tr>\n",
       "    <tr>\n",
       "      <th>4</th>\n",
       "      <td>5</td>\n",
       "      <td>103003</td>\n",
       "      <td>42477</td>\n",
       "      <td>182190</td>\n",
       "      <td>63736</td>\n",
       "      <td>51395</td>\n",
       "      <td>219392</td>\n",
       "      <td>64189</td>\n",
       "    </tr>\n",
       "  </tbody>\n",
       "</table>\n",
       "</div>"
      ],
      "text/plain": [
       "   mies   pepsi  fanta   żywiec  okocim  regionalne    cola   lech\n",
       "0     1  119110   41386  186272   64398       55561  215468  68673\n",
       "1     2  107424   45669  178564   61847       48793  233941  68483\n",
       "2     3  105748   47373  183368   53390       63907  229677  63300\n",
       "3     4  115377   39395  184326   60062       58531  234246  61943\n",
       "4     5  103003   42477  182190   63736       51395  219392  64189"
      ]
     },
     "execution_count": 11,
     "metadata": {},
     "output_type": "execute_result"
    }
   ],
   "source": [
    "df_reklama = pd.read_csv('pliki_csv/napoje_po_reklamie.csv', sep = ';')\n",
    "df_reklama.head(5)"
   ]
  },
  {
   "cell_type": "code",
   "execution_count": 18,
   "metadata": {},
   "outputs": [
    {
     "name": "stdout",
     "output_type": "stream",
     "text": [
      "\n",
      "Test równości średniej dla cola z roku 2016 i po reklamie:\n",
      "Statystyka testowa: 86.0\n",
      "Wartość p: 0.43573066003173655\n",
      "Średnie cola z roku 2016 i po reklamie są równe.\n",
      "\n",
      "Test równości średniej dla fanta  z roku 2016 i po reklamie:\n",
      "Statystyka testowa: 56.0\n",
      "Wartość p: 0.3708443333042212\n",
      "Średnie fanta  z roku 2016 i po reklamie są równe.\n",
      "\n",
      "Test równości średniej dla pepsi z roku 2016 i po reklamie:\n",
      "Statystyka testowa: 91.0\n",
      "Wartość p: 0.28547630885188247\n",
      "Średnie pepsi z roku 2016 i po reklamie są równe.\n"
     ]
    }
   ],
   "source": [
    "napoje = ['cola', 'fanta ', 'pepsi']\n",
    "\n",
    "for zmienna in napoje:\n",
    "    dane_2016 = df[df['rok'] == 2001][zmienna]\n",
    "    dane_reklama = df_reklama[zmienna]\n",
    "    \n",
    "    stat, p = sps.mannwhitneyu(dane_2016, dane_reklama)\n",
    "    \n",
    "    print(f'\\nTest równości średniej dla {zmienna} z roku 2016 i po reklamie:')\n",
    "    print(f'Statystyka testowa: {stat}')\n",
    "    print(f'Wartość p: {p}')\n",
    "    if p < 0.05:\n",
    "        print(f'Średnie {zmienna} z roku 2016 i po reklamie nie są równe.')\n",
    "    else:\n",
    "        print(f'Średnie {zmienna} z roku 2016 i po reklamie są równe.')"
   ]
  }
 ],
 "metadata": {
  "kernelspec": {
   "display_name": "Python 3",
   "language": "python",
   "name": "python3"
  },
  "language_info": {
   "codemirror_mode": {
    "name": "ipython",
    "version": 3
   },
   "file_extension": ".py",
   "mimetype": "text/x-python",
   "name": "python",
   "nbconvert_exporter": "python",
   "pygments_lexer": "ipython3",
   "version": "3.10.10"
  }
 },
 "nbformat": 4,
 "nbformat_minor": 2
}
